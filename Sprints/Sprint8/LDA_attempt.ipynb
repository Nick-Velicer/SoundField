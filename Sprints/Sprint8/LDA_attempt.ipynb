{
 "cells": [
  {
   "cell_type": "code",
   "execution_count": 16,
   "metadata": {},
   "outputs": [],
   "source": [
    "import numpy as np\n",
    "import pandas as pd\n"
   ]
  },
  {
   "cell_type": "code",
   "execution_count": 18,
   "metadata": {},
   "outputs": [
    {
     "data": {
      "text/html": [
       "<div>\n",
       "<style scoped>\n",
       "    .dataframe tbody tr th:only-of-type {\n",
       "        vertical-align: middle;\n",
       "    }\n",
       "\n",
       "    .dataframe tbody tr th {\n",
       "        vertical-align: top;\n",
       "    }\n",
       "\n",
       "    .dataframe thead th {\n",
       "        text-align: right;\n",
       "    }\n",
       "</style>\n",
       "<table border=\"1\" class=\"dataframe\">\n",
       "  <thead>\n",
       "    <tr style=\"text-align: right;\">\n",
       "      <th></th>\n",
       "      <th>AF3</th>\n",
       "      <th>AF4</th>\n",
       "      <th>F3</th>\n",
       "      <th>F4</th>\n",
       "      <th>F7</th>\n",
       "      <th>F8</th>\n",
       "      <th>FC5</th>\n",
       "      <th>FC6</th>\n",
       "      <th>O1</th>\n",
       "      <th>O2</th>\n",
       "      <th>P7</th>\n",
       "      <th>P8</th>\n",
       "      <th>T7</th>\n",
       "      <th>T8</th>\n",
       "    </tr>\n",
       "  </thead>\n",
       "  <tbody>\n",
       "    <tr>\n",
       "      <th>0</th>\n",
       "      <td>-3.6154</td>\n",
       "      <td>0.7229</td>\n",
       "      <td>1.20530</td>\n",
       "      <td>5.0617</td>\n",
       "      <td>-5.0617</td>\n",
       "      <td>-5.06170</td>\n",
       "      <td>-16.6308</td>\n",
       "      <td>-1.20530</td>\n",
       "      <td>26.2718</td>\n",
       "      <td>7.4718</td>\n",
       "      <td>12.7745</td>\n",
       "      <td>12.2925</td>\n",
       "      <td>-0.7229</td>\n",
       "      <td>-4.09740</td>\n",
       "    </tr>\n",
       "    <tr>\n",
       "      <th>1</th>\n",
       "      <td>-9.6652</td>\n",
       "      <td>-4.1410</td>\n",
       "      <td>-2.24170</td>\n",
       "      <td>-0.5449</td>\n",
       "      <td>-11.9886</td>\n",
       "      <td>-9.09610</td>\n",
       "      <td>-24.7918</td>\n",
       "      <td>0.31351</td>\n",
       "      <td>10.5955</td>\n",
       "      <td>8.4695</td>\n",
       "      <td>7.6694</td>\n",
       "      <td>9.1446</td>\n",
       "      <td>1.2484</td>\n",
       "      <td>0.96897</td>\n",
       "    </tr>\n",
       "    <tr>\n",
       "      <th>2</th>\n",
       "      <td>-4.7468</td>\n",
       "      <td>-2.4462</td>\n",
       "      <td>0.30338</td>\n",
       "      <td>-0.5122</td>\n",
       "      <td>-10.7873</td>\n",
       "      <td>-11.44280</td>\n",
       "      <td>-28.1250</td>\n",
       "      <td>2.70480</td>\n",
       "      <td>-4.1402</td>\n",
       "      <td>9.4076</td>\n",
       "      <td>12.5119</td>\n",
       "      <td>7.6316</td>\n",
       "      <td>2.6198</td>\n",
       "      <td>0.42890</td>\n",
       "    </tr>\n",
       "    <tr>\n",
       "      <th>3</th>\n",
       "      <td>1.5638</td>\n",
       "      <td>3.2441</td>\n",
       "      <td>3.41820</td>\n",
       "      <td>11.3291</td>\n",
       "      <td>-4.5965</td>\n",
       "      <td>-0.87432</td>\n",
       "      <td>-15.5912</td>\n",
       "      <td>-2.03670</td>\n",
       "      <td>-2.4458</td>\n",
       "      <td>-2.4850</td>\n",
       "      <td>2.3612</td>\n",
       "      <td>4.0407</td>\n",
       "      <td>-3.5629</td>\n",
       "      <td>1.60800</td>\n",
       "    </tr>\n",
       "    <tr>\n",
       "      <th>4</th>\n",
       "      <td>-6.4840</td>\n",
       "      <td>-1.5298</td>\n",
       "      <td>2.00830</td>\n",
       "      <td>6.5520</td>\n",
       "      <td>-13.7205</td>\n",
       "      <td>-8.77560</td>\n",
       "      <td>-20.1994</td>\n",
       "      <td>1.21850</td>\n",
       "      <td>-3.0219</td>\n",
       "      <td>11.7641</td>\n",
       "      <td>7.2812</td>\n",
       "      <td>12.7159</td>\n",
       "      <td>-7.4467</td>\n",
       "      <td>3.19870</td>\n",
       "    </tr>\n",
       "  </tbody>\n",
       "</table>\n",
       "</div>"
      ],
      "text/plain": [
       "      AF3     AF4       F3       F4       F7        F8      FC5      FC6  \\\n",
       "0 -3.6154  0.7229  1.20530   5.0617  -5.0617  -5.06170 -16.6308 -1.20530   \n",
       "1 -9.6652 -4.1410 -2.24170  -0.5449 -11.9886  -9.09610 -24.7918  0.31351   \n",
       "2 -4.7468 -2.4462  0.30338  -0.5122 -10.7873 -11.44280 -28.1250  2.70480   \n",
       "3  1.5638  3.2441  3.41820  11.3291  -4.5965  -0.87432 -15.5912 -2.03670   \n",
       "4 -6.4840 -1.5298  2.00830   6.5520 -13.7205  -8.77560 -20.1994  1.21850   \n",
       "\n",
       "        O1       O2       P7       P8      T7       T8  \n",
       "0  26.2718   7.4718  12.7745  12.2925 -0.7229 -4.09740  \n",
       "1  10.5955   8.4695   7.6694   9.1446  1.2484  0.96897  \n",
       "2  -4.1402   9.4076  12.5119   7.6316  2.6198  0.42890  \n",
       "3  -2.4458  -2.4850   2.3612   4.0407 -3.5629  1.60800  \n",
       "4  -3.0219  11.7641   7.2812  12.7159 -7.4467  3.19870  "
      ]
     },
     "execution_count": 18,
     "metadata": {},
     "output_type": "execute_result"
    }
   ],
   "source": [
    "emotions = \"../GAMEEMO/(S01)/Preprocessed EEG Data/.csv format/S01G4AllChannels.csv\"\n",
    "data = pd.read_csv(emotions)\n",
    "data = data.drop(columns=[\"Unnamed: 14\"])\n",
    "data.head()\n"
   ]
  },
  {
   "cell_type": "code",
   "execution_count": 19,
   "metadata": {},
   "outputs": [
    {
     "name": "stdout",
     "output_type": "stream",
     "text": [
      "<class 'pandas.core.frame.DataFrame'>\n",
      "RangeIndex: 38252 entries, 0 to 38251\n",
      "Data columns (total 14 columns):\n",
      " #   Column  Non-Null Count  Dtype  \n",
      "---  ------  --------------  -----  \n",
      " 0   AF3     38252 non-null  float64\n",
      " 1   AF4     38252 non-null  float64\n",
      " 2   F3      38252 non-null  float64\n",
      " 3   F4      38252 non-null  float64\n",
      " 4   F7      38252 non-null  float64\n",
      " 5   F8      38252 non-null  float64\n",
      " 6   FC5     38252 non-null  float64\n",
      " 7   FC6     38252 non-null  float64\n",
      " 8   O1      38252 non-null  float64\n",
      " 9   O2      38252 non-null  float64\n",
      " 10  P7      38252 non-null  float64\n",
      " 11  P8      38252 non-null  float64\n",
      " 12  T7      38252 non-null  float64\n",
      " 13  T8      38252 non-null  float64\n",
      "dtypes: float64(14)\n",
      "memory usage: 4.1 MB\n"
     ]
    }
   ],
   "source": [
    "data.info()"
   ]
  },
  {
   "cell_type": "code",
   "execution_count": 39,
   "metadata": {},
   "outputs": [
    {
     "name": "stdout",
     "output_type": "stream",
     "text": [
      "-0.78350174126098\n"
     ]
    }
   ],
   "source": [
    "# valence = (AF4/F4) - (AF3/F3)\n",
    "# data = data.drop(columns=[\"Unnamed: 14\"])\n",
    "data[\"calc_valence\"] = ((data[\"AF4\"]/data[\"F4\"]) - (data[\"AF3\"]/data[\"F3\"]))\n",
    "data[\"roll_avg_valence\"] = data[\"calc_valence\"].rolling(20).mean()\n",
    "reduced = data[\"roll_avg_valence\"]\n",
    "# print(reduced.loc[60:100])\n",
    "# mean_pos = data[\"calc_valence\"].mean()\n",
    "# print(mean_pos)"
   ]
  },
  {
   "cell_type": "code",
   "execution_count": 40,
   "metadata": {},
   "outputs": [
    {
     "name": "stdout",
     "output_type": "stream",
     "text": [
      "1.887621987276235\n"
     ]
    }
   ],
   "source": [
    "# NEGATIVE\n",
    "emotions_neg = \"../GAMEEMO/(S01)/Preprocessed EEG Data/.csv format/S01G3AllChannels.csv\"\n",
    "data_neg = pd.read_csv(emotions_neg)\n",
    "data_neg = data_neg.drop(columns=[\"Unnamed: 14\"])\n",
    "data_neg[\"calc_valence\"] = ((data_neg[\"AF4\"]/data_neg[\"F4\"]) - (data_neg[\"AF3\"]/data_neg[\"F3\"]))\n",
    "data_neg[\"roll_avg_valence\"] = data_neg[\"calc_valence\"].rolling(20).mean()\n",
    "reduced_neg = data_neg[\"roll_avg_valence\"]\n",
    "# print(reduced_neg.loc[60:100])\n",
    "# mean_neg = data_neg[\"calc_valence\"].mean()\n",
    "# print(mean_neg)"
   ]
  },
  {
   "cell_type": "code",
   "execution_count": 11,
   "metadata": {},
   "outputs": [
    {
     "name": "stdout",
     "output_type": "stream",
     "text": [
      "   valence_pos\n",
      "0            0\n",
      "1            1\n"
     ]
    }
   ],
   "source": [
    "vals = pd.DataFrame({'valence': ['neg', 'pos']})\n",
    "# print(vals)\n",
    "dummies = pd.get_dummies(vals, drop_first=True)\n",
    "print(dummies)"
   ]
  },
  {
   "cell_type": "code",
   "execution_count": 14,
   "metadata": {},
   "outputs": [
    {
     "data": {
      "text/html": [
       "<div>\n",
       "<style scoped>\n",
       "    .dataframe tbody tr th:only-of-type {\n",
       "        vertical-align: middle;\n",
       "    }\n",
       "\n",
       "    .dataframe tbody tr th {\n",
       "        vertical-align: top;\n",
       "    }\n",
       "\n",
       "    .dataframe thead th {\n",
       "        text-align: right;\n",
       "    }\n",
       "</style>\n",
       "<table border=\"1\" class=\"dataframe\">\n",
       "  <thead>\n",
       "    <tr style=\"text-align: right;\">\n",
       "      <th></th>\n",
       "      <th>calc_valence</th>\n",
       "      <th>valence_pos</th>\n",
       "    </tr>\n",
       "  </thead>\n",
       "  <tbody>\n",
       "    <tr>\n",
       "      <th>0</th>\n",
       "      <td>3.142403</td>\n",
       "      <td>0.0</td>\n",
       "    </tr>\n",
       "    <tr>\n",
       "      <th>1</th>\n",
       "      <td>3.288010</td>\n",
       "      <td>1.0</td>\n",
       "    </tr>\n",
       "    <tr>\n",
       "      <th>2</th>\n",
       "      <td>20.422253</td>\n",
       "      <td>NaN</td>\n",
       "    </tr>\n",
       "    <tr>\n",
       "      <th>3</th>\n",
       "      <td>-0.171141</td>\n",
       "      <td>NaN</td>\n",
       "    </tr>\n",
       "    <tr>\n",
       "      <th>4</th>\n",
       "      <td>2.995115</td>\n",
       "      <td>NaN</td>\n",
       "    </tr>\n",
       "  </tbody>\n",
       "</table>\n",
       "</div>"
      ],
      "text/plain": [
       "   calc_valence  valence_pos\n",
       "0      3.142403          0.0\n",
       "1      3.288010          1.0\n",
       "2     20.422253          NaN\n",
       "3     -0.171141          NaN\n",
       "4      2.995115          NaN"
      ]
     },
     "execution_count": 14,
     "metadata": {},
     "output_type": "execute_result"
    }
   ],
   "source": [
    "from sklearn import linear_model\n",
    "\n",
    "X = pd.concat([data[['calc_valence']], dummies], axis=1)\n",
    "X.head()"
   ]
  }
 ],
 "metadata": {
  "kernelspec": {
   "display_name": "Python 3.10.7 64-bit",
   "language": "python",
   "name": "python3"
  },
  "language_info": {
   "codemirror_mode": {
    "name": "ipython",
    "version": 3
   },
   "file_extension": ".py",
   "mimetype": "text/x-python",
   "name": "python",
   "nbconvert_exporter": "python",
   "pygments_lexer": "ipython3",
   "version": "3.10.7"
  },
  "orig_nbformat": 4,
  "vscode": {
   "interpreter": {
    "hash": "aee8b7b246df8f9039afb4144a1f6fd8d2ca17a180786b69acc140d282b71a49"
   }
  }
 },
 "nbformat": 4,
 "nbformat_minor": 2
}
